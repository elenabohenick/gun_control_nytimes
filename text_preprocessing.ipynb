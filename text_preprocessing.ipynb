{
 "cells": [
  {
   "cell_type": "code",
   "execution_count": 1,
   "metadata": {},
   "outputs": [
    {
     "name": "stdout",
     "output_type": "stream",
     "text": [
      "[nltk_data] Downloading package wordnet to /home/ubuntu/nltk_data...\n",
      "[nltk_data]   Package wordnet is already up-to-date!\n",
      "[nltk_data] Downloading package maxent_treebank_pos_tagger to\n",
      "[nltk_data]     /home/ubuntu/nltk_data...\n",
      "[nltk_data]   Package maxent_treebank_pos_tagger is already up-to-\n",
      "[nltk_data]       date!\n",
      "[nltk_data] Downloading package averaged_perceptron_tagger to\n",
      "[nltk_data]     /home/ubuntu/nltk_data...\n",
      "[nltk_data]   Package averaged_perceptron_tagger is already up-to-\n",
      "[nltk_data]       date!\n"
     ]
    },
    {
     "data": {
      "text/plain": [
       "True"
      ]
     },
     "execution_count": 1,
     "metadata": {},
     "output_type": "execute_result"
    }
   ],
   "source": [
    "import nltk\n",
    "import pandas as pd\n",
    "import numpy as np\n",
    "import re\n",
    "from nltk.corpus import wordnet\n",
    "from nltk.stem import WordNetLemmatizer\n",
    "from nltk.stem import PorterStemmer\n",
    "from nltk.tokenize import RegexpTokenizer\n",
    "import string\n",
    "from sklearn.feature_extraction.text import CountVectorizer\n",
    "from sklearn.feature_extraction.text import TfidfVectorizer\n",
    "import curses.ascii\n",
    "from nltk.tokenize import word_tokenize\n",
    "from  sklearn.decomposition import NMF\n",
    "from collections import defaultdict\n",
    "from sklearn.manifold import TSNE\n",
    "import matplotlib.pyplot as plt\n",
    "nltk.download('wordnet')\n",
    "nltk.download('maxent_treebank_pos_tagger')\n",
    "nltk.download('averaged_perceptron_tagger')"
   ]
  },
  {
   "cell_type": "code",
   "execution_count": 2,
   "metadata": {},
   "outputs": [],
   "source": [
    "nytimes = pd.read_csv('nytimes_text_1985_2018.csv', encoding='ISO-8859-1')"
   ]
  },
  {
   "cell_type": "code",
   "execution_count": 3,
   "metadata": {},
   "outputs": [],
   "source": [
    "# remove articls in spanish\n",
    "nytimes = nytimes[nytimes.url.str.contains('/es/')==False]"
   ]
  },
  {
   "cell_type": "code",
   "execution_count": 4,
   "metadata": {},
   "outputs": [],
   "source": [
    "def strip_accentes(input_string):\n",
    "    clean_string = \"\".join([letter for letter in input_string if curses.ascii.isascii(letter)])\n",
    "    return(clean_string)"
   ]
  },
  {
   "cell_type": "code",
   "execution_count": 5,
   "metadata": {},
   "outputs": [],
   "source": [
    "# remove accents from article text\n",
    "nytimes['article_text'] = [strip_accentes(article) for article in nytimes['article_text']]"
   ]
  },
  {
   "cell_type": "code",
   "execution_count": 6,
   "metadata": {},
   "outputs": [],
   "source": [
    "# crate a function that takes a string and lemmatizes it \n",
    "def lemmatizer(text):\n",
    "    tokens = word_tokenize(text)\n",
    "    tagged = nltk.pos_tag(tokens)\n",
    "    lemmatizer = WordNetLemmatizer()\n",
    "    lem_words = []\n",
    "    for tagged_word in tagged:\n",
    "        word = tagged_word[0].lower()\n",
    "        if tagged_word[1].startswith('VB'):\n",
    "            word_tag = 'v'\n",
    "        elif tagged_word[1].startswith('JJ'):\n",
    "            word_tag = 'a'\n",
    "        elif tagged_word[1].startswith('RB'):\n",
    "            word_tag = 'r'\n",
    "        else:\n",
    "            word_tag = 'n'\n",
    "                 \n",
    "        lem_words.append(lemmatizer.lemmatize(word,pos=word_tag))\n",
    "    return(lem_words)"
   ]
  },
  {
   "cell_type": "code",
   "execution_count": 7,
   "metadata": {},
   "outputs": [],
   "source": [
    "# lemmatize words in articles\n",
    "nytimes['lem_tokens'] = [lemmatizer(article) for article in nytimes['article_text']]"
   ]
  },
  {
   "cell_type": "code",
   "execution_count": 8,
   "metadata": {},
   "outputs": [],
   "source": [
    "# turn lemmatized and stemmed tokens back into sting form\n",
    "nytimes['lem_text'] = [\" \".join(lems) for lems in nytimes['lem_tokens']]"
   ]
  },
  {
   "cell_type": "code",
   "execution_count": 9,
   "metadata": {},
   "outputs": [],
   "source": [
    "nytimes['date'] = pd.to_datetime(nytimes['date'])\n",
    "nytimes['year'] = nytimes['date'].dt.year"
   ]
  },
  {
   "cell_type": "code",
   "execution_count": 10,
   "metadata": {},
   "outputs": [
    {
     "data": {
      "text/html": [
       "<div>\n",
       "<style scoped>\n",
       "    .dataframe tbody tr th:only-of-type {\n",
       "        vertical-align: middle;\n",
       "    }\n",
       "\n",
       "    .dataframe tbody tr th {\n",
       "        vertical-align: top;\n",
       "    }\n",
       "\n",
       "    .dataframe thead th {\n",
       "        text-align: right;\n",
       "    }\n",
       "</style>\n",
       "<table border=\"1\" class=\"dataframe\">\n",
       "  <thead>\n",
       "    <tr style=\"text-align: right;\">\n",
       "      <th></th>\n",
       "      <th>date</th>\n",
       "      <th>headline</th>\n",
       "      <th>id</th>\n",
       "      <th>score</th>\n",
       "      <th>snippet</th>\n",
       "      <th>source</th>\n",
       "      <th>type</th>\n",
       "      <th>url</th>\n",
       "      <th>word_count</th>\n",
       "      <th>article_text</th>\n",
       "      <th>lem_tokens</th>\n",
       "      <th>lem_text</th>\n",
       "      <th>year</th>\n",
       "    </tr>\n",
       "  </thead>\n",
       "  <tbody>\n",
       "    <tr>\n",
       "      <th>0</th>\n",
       "      <td>1985-02-19</td>\n",
       "      <td>b'KOCH, IN WAHINGTON, HAS PRAISE FOR CUOMO'</td>\n",
       "      <td>4fd141f48eb7c8105d61a513</td>\n",
       "      <td>0.037857</td>\n",
       "      <td>b\"Once a political rival, sometimes a politica...</td>\n",
       "      <td>The New York Times</td>\n",
       "      <td>News</td>\n",
       "      <td>https://www.nytimes.com/1985/02/19/nyregion/ko...</td>\n",
       "      <td>609</td>\n",
       "      <td>Once a political rival, sometimes a political...</td>\n",
       "      <td>[once, a, political, rival, ,, sometimes, a, p...</td>\n",
       "      <td>once a political rival , sometimes a political...</td>\n",
       "      <td>1985</td>\n",
       "    </tr>\n",
       "    <tr>\n",
       "      <th>1</th>\n",
       "      <td>1985-03-06</td>\n",
       "      <td>b'Senate Seeks to Ease Restrictions on Guns'</td>\n",
       "      <td>4fd14eb08eb7c8105d62ed73</td>\n",
       "      <td>0.057113</td>\n",
       "      <td>b'The State Senate passed a bill today that wo...</td>\n",
       "      <td>The New York Times</td>\n",
       "      <td>News</td>\n",
       "      <td>https://www.nytimes.com/1985/03/06/nyregion/se...</td>\n",
       "      <td>161</td>\n",
       "      <td>The State Senate passed a bill today that wou...</td>\n",
       "      <td>[the, state, senate, pass, a, bill, today, tha...</td>\n",
       "      <td>the state senate pass a bill today that would ...</td>\n",
       "      <td>1985</td>\n",
       "    </tr>\n",
       "    <tr>\n",
       "      <th>2</th>\n",
       "      <td>1985-04-09</td>\n",
       "      <td>b\"We're Killing One Another at a Great Rate\"</td>\n",
       "      <td>4fd15c448eb7c8105d64316d</td>\n",
       "      <td>0.086703</td>\n",
       "      <td>b'To the Editor:     According to a recent rep...</td>\n",
       "      <td>The New York Times</td>\n",
       "      <td>Letter</td>\n",
       "      <td>https://www.nytimes.com/1985/04/09/opinion/l-w...</td>\n",
       "      <td>313</td>\n",
       "      <td>To the Editor: According to a recent report b...</td>\n",
       "      <td>[to, the, editor, :, accord, to, a, recent, re...</td>\n",
       "      <td>to the editor : accord to a recent report by h...</td>\n",
       "      <td>1985</td>\n",
       "    </tr>\n",
       "    <tr>\n",
       "      <th>3</th>\n",
       "      <td>1985-04-17</td>\n",
       "      <td>b\"Focusing on Guns Won't Alter Crime in the U.S.\"</td>\n",
       "      <td>4fd142658eb7c8105d61ad2a</td>\n",
       "      <td>0.066921</td>\n",
       "      <td>b\"To the Editor:     ''We're Killing One Anoth...</td>\n",
       "      <td>The New York Times</td>\n",
       "      <td>Letter</td>\n",
       "      <td>https://www.nytimes.com/1985/04/17/opinion/l-f...</td>\n",
       "      <td>363</td>\n",
       "      <td>To the Editor: ''We're Killing One Another at...</td>\n",
       "      <td>[to, the, editor, :, ``, we, 're, kill, one, a...</td>\n",
       "      <td>to the editor : `` we 're kill one another at ...</td>\n",
       "      <td>1985</td>\n",
       "    </tr>\n",
       "    <tr>\n",
       "      <th>4</th>\n",
       "      <td>1985-05-06</td>\n",
       "      <td>b'Gun Group Cites Bias in Press'</td>\n",
       "      <td>4fd14cf48eb7c8105d62bf15</td>\n",
       "      <td>0.090196</td>\n",
       "      <td>b\"The new president of the National Rifle Asso...</td>\n",
       "      <td>The New York Times</td>\n",
       "      <td>News</td>\n",
       "      <td>https://www.nytimes.com/1985/05/06/us/gun-grou...</td>\n",
       "      <td>221</td>\n",
       "      <td>The new president of the National Rifle Assoc...</td>\n",
       "      <td>[the, new, president, of, the, national, rifle...</td>\n",
       "      <td>the new president of the national rifle associ...</td>\n",
       "      <td>1985</td>\n",
       "    </tr>\n",
       "  </tbody>\n",
       "</table>\n",
       "</div>"
      ],
      "text/plain": [
       "        date                                           headline  \\\n",
       "0 1985-02-19        b'KOCH, IN WAHINGTON, HAS PRAISE FOR CUOMO'   \n",
       "1 1985-03-06       b'Senate Seeks to Ease Restrictions on Guns'   \n",
       "2 1985-04-09       b\"We're Killing One Another at a Great Rate\"   \n",
       "3 1985-04-17  b\"Focusing on Guns Won't Alter Crime in the U.S.\"   \n",
       "4 1985-05-06                   b'Gun Group Cites Bias in Press'   \n",
       "\n",
       "                         id     score  \\\n",
       "0  4fd141f48eb7c8105d61a513  0.037857   \n",
       "1  4fd14eb08eb7c8105d62ed73  0.057113   \n",
       "2  4fd15c448eb7c8105d64316d  0.086703   \n",
       "3  4fd142658eb7c8105d61ad2a  0.066921   \n",
       "4  4fd14cf48eb7c8105d62bf15  0.090196   \n",
       "\n",
       "                                             snippet              source  \\\n",
       "0  b\"Once a political rival, sometimes a politica...  The New York Times   \n",
       "1  b'The State Senate passed a bill today that wo...  The New York Times   \n",
       "2  b'To the Editor:     According to a recent rep...  The New York Times   \n",
       "3  b\"To the Editor:     ''We're Killing One Anoth...  The New York Times   \n",
       "4  b\"The new president of the National Rifle Asso...  The New York Times   \n",
       "\n",
       "     type                                                url  word_count  \\\n",
       "0    News  https://www.nytimes.com/1985/02/19/nyregion/ko...         609   \n",
       "1    News  https://www.nytimes.com/1985/03/06/nyregion/se...         161   \n",
       "2  Letter  https://www.nytimes.com/1985/04/09/opinion/l-w...         313   \n",
       "3  Letter  https://www.nytimes.com/1985/04/17/opinion/l-f...         363   \n",
       "4    News  https://www.nytimes.com/1985/05/06/us/gun-grou...         221   \n",
       "\n",
       "                                        article_text  \\\n",
       "0   Once a political rival, sometimes a political...   \n",
       "1   The State Senate passed a bill today that wou...   \n",
       "2   To the Editor: According to a recent report b...   \n",
       "3   To the Editor: ''We're Killing One Another at...   \n",
       "4   The new president of the National Rifle Assoc...   \n",
       "\n",
       "                                          lem_tokens  \\\n",
       "0  [once, a, political, rival, ,, sometimes, a, p...   \n",
       "1  [the, state, senate, pass, a, bill, today, tha...   \n",
       "2  [to, the, editor, :, accord, to, a, recent, re...   \n",
       "3  [to, the, editor, :, ``, we, 're, kill, one, a...   \n",
       "4  [the, new, president, of, the, national, rifle...   \n",
       "\n",
       "                                            lem_text  year  \n",
       "0  once a political rival , sometimes a political...  1985  \n",
       "1  the state senate pass a bill today that would ...  1985  \n",
       "2  to the editor : accord to a recent report by h...  1985  \n",
       "3  to the editor : `` we 're kill one another at ...  1985  \n",
       "4  the new president of the national rifle associ...  1985  "
      ]
     },
     "execution_count": 10,
     "metadata": {},
     "output_type": "execute_result"
    }
   ],
   "source": [
    "nytimes.head()"
   ]
  },
  {
   "cell_type": "code",
   "execution_count": 11,
   "metadata": {},
   "outputs": [],
   "source": [
    "import pickle"
   ]
  },
  {
   "cell_type": "code",
   "execution_count": 15,
   "metadata": {},
   "outputs": [],
   "source": [
    "with open('nytimes_lemma.pkl', 'wb') as picklefile:\n",
    "    pickle.dump(nytimes, picklefile)"
   ]
  },
  {
   "cell_type": "markdown",
   "metadata": {},
   "source": [
    "### TFIDF"
   ]
  },
  {
   "cell_type": "code",
   "execution_count": 9,
   "metadata": {},
   "outputs": [],
   "source": [
    "# test count vectorizer min_df levels to see how many words get cut out \n",
    "num_of_features = defaultdict()\n",
    "lin = np.arange(1,100)\n",
    "for l in lin:\n",
    "    vectorizer = TfidfVectorizer(ngram_range=(1,1),stop_words='english', token_pattern=\"\\\\b[a-z][a-z]+\\\\b\", min_df=l)\n",
    "    counts = vectorizer.fit_transform(nytimes['lem_text'])\n",
    "    nyt_feature_names = vectorizer.get_feature_names()\n",
    "    num_of_features[l] = len(nyt_feature_names)"
   ]
  },
  {
   "cell_type": "code",
   "execution_count": 10,
   "metadata": {},
   "outputs": [
    {
     "data": {
      "text/plain": [
       "Text(0,0.5,'number of features')"
      ]
     },
     "execution_count": 10,
     "metadata": {},
     "output_type": "execute_result"
    },
    {
     "data": {
      "image/png": "[encoded data removed]",
      "text/plain": [
       "<Figure size 432x288 with 1 Axes>"
      ]
     },
     "metadata": {},
     "output_type": "display_data"
    }
   ],
   "source": [
    "# plot how number of features change with min_df\n",
    "plt.plot(num_of_features.keys(), num_of_features.values())\n",
    "plt.xlabel('min_df value', size=14)\n",
    "plt.ylabel('number of features', size=14)"
   ]
  },
  {
   "cell_type": "code",
   "execution_count": 11,
   "metadata": {},
   "outputs": [],
   "source": [
    "# test max_df\n",
    "num_of_features_max_df = defaultdict()\n",
    "lin = np.arange(2000,3898,100)\n",
    "for l in lin:\n",
    "    vectorizer = TfidfVectorizer(ngram_range=(1,1),stop_words='english', token_pattern=\"\\\\b[a-z][a-z]+\\\\b\", min_df=5, max_df=l)\n",
    "    counts = vectorizer.fit_transform(nytimes['lem_text'])\n",
    "    nyt_feature_names = vectorizer.get_feature_names()\n",
    "    num_of_features_max_df[l] = len(nyt_feature_names)"
   ]
  },
  {
   "cell_type": "code",
   "execution_count": 12,
   "metadata": {},
   "outputs": [
    {
     "data": {
      "text/plain": [
       "Text(0,0.5,'number of features')"
      ]
     },
     "execution_count": 12,
     "metadata": {},
     "output_type": "execute_result"
    },
    {
     "data": {
      "image/png": "[encoded data removed]",
      "text/plain": [
       "<Figure size 432x288 with 1 Axes>"
      ]
     },
     "metadata": {},
     "output_type": "display_data"
    }
   ],
   "source": [
    "plt.plot(num_of_features_max_df.keys(), num_of_features_max_df.values())\n",
    "plt.xlabel('max_df value', size=14)\n",
    "plt.ylabel('number of features', size=14)"
   ]
  }
 ],
 "metadata": {
  "kernelspec": {
   "display_name": "Python 3",
   "language": "python",
   "name": "python3"
  },
  "language_info": {
   "codemirror_mode": {
    "name": "ipython",
    "version": 3
   },
   "file_extension": ".py",
   "mimetype": "text/x-python",
   "name": "python",
   "nbconvert_exporter": "python",
   "pygments_lexer": "ipython3",
   "version": "3.6.4"
  }
 },
 "nbformat": 4,
 "nbformat_minor": 2
}
